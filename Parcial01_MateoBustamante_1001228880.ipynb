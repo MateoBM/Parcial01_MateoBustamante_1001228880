{
  "nbformat": 4,
  "nbformat_minor": 0,
  "metadata": {
    "colab": {
      "name": "Parcial01_MateoBustamante_1001228880.ipynb",
      "provenance": []
    },
    "kernelspec": {
      "name": "python3",
      "display_name": "Python 3"
    },
    "language_info": {
      "name": "python"
    }
  },
  "cells": [
    {
      "cell_type": "code",
      "execution_count": 299,
      "metadata": {
        "colab": {
          "base_uri": "https://localhost:8080/"
        },
        "id": "ZJ2b4M8v0cOq",
        "outputId": "4aaf6ee6-393b-4b2f-83d1-ba04dee37097"
      },
      "outputs": [
        {
          "output_type": "stream",
          "name": "stdout",
          "text": [
            "Chile\n"
          ]
        }
      ],
      "source": [
        "import json\n",
        "import requests\n",
        "import random\n",
        "from random import choices\n",
        "import pandas as pd\n",
        "import numpy as np\n",
        "from numpy.polynomial.polynomial import Polynomial as poli\n",
        "import matplotlib.pyplot as plt\n",
        "\n",
        "############### PUNTO 1\n",
        "\n",
        "\n",
        "url=\"https://datahub.io/core/country-list/r/data.json\"\n",
        "r=requests.get(url)\n",
        "countries=r.json()\n",
        "\n",
        "aleatorio = random.randint(0,len(countries))\n",
        "\n",
        "paises_=countries[aleatorio]\n",
        "\n",
        "pais=paises_.values()\n",
        "pais=list(pais)\n",
        "print(pais[1].replace(\"\",\"\"))\n",
        "\n",
        "###El pais aleatorio fue chile\n",
        "\n",
        "\n"
      ]
    },
    {
      "cell_type": "code",
      "source": [
        "url2 = \"https://inspirehep.net/api/institutions?sort=mostrecent&size=25&page=1&q=chile\"\n",
        "\n",
        "r2= requests.get(url2)\n",
        "inst=r2.json()\n",
        "\n",
        "ls=[]\n",
        "i=0\n",
        "y=3\n",
        "\n",
        "for dict_ in inst['hits'].values():\n",
        "  for i in range(0,len(list(inst[\"hits\"].values()))):\n",
        "    if type(dict_) == type(ls):\n",
        "        papers=list(dict_[0].values())\n",
        "        if type(papers[0][\"number_of_papers\"])== type(y):\n",
        "          if papers[0][\"number_of_papers\"]>0:\n",
        "            print(papers[0][\"legacy_ICN\"])\n",
        "            break \n",
        "\n",
        "\n",
        "###si el programa genera error volver a cargarlo un par de veces hasta que funcione, esto es debido a que el texto de la url cambia cada vez que se carga\n",
        "\n"
      ],
      "metadata": {
        "id": "SJhJoD_rFg64",
        "colab": {
          "base_uri": "https://localhost:8080/"
        },
        "outputId": "491aa7e5-d348-48b2-d17a-877efc27ab9e"
      },
      "execution_count": 149,
      "outputs": [
        {
          "output_type": "stream",
          "name": "stdout",
          "text": [
            "U. Chile, Santiago\n"
          ]
        }
      ]
    },
    {
      "cell_type": "code",
      "source": [
        "########punto 2\n",
        "\n",
        "\n",
        "\n",
        "np.random.seed(5)\n",
        "coeficientes= np.random.randint(-9,10,size=(1,4))\n",
        "#coeficientes=[-6,-5,2,1]\n",
        "coeficientes=list(coeficientes[0])\n",
        "\n",
        "\n",
        "digitos=coeficientes[-2:]\n",
        "rango=sorted(digitos)\n",
        "\n",
        "p=poli(coeficientes)\n",
        "print(\"polinomio:\",p)\n",
        "\n",
        "raiz=list(p.roots())\n",
        "x=raiz[0]\n",
        "y=raiz[1]\n",
        "z=raiz[2]\n",
        "print(\"raices: \",raiz)\n",
        "\n",
        "x_imag=x.imag\n",
        "y_imag=y.imag\n",
        "z_imag=z.imag\n",
        "\n",
        "\n",
        "if x_imag==0 and y_imag==0 and z_imag==0:\n",
        "    if rango[0]<=x<=rango[1] and rango[0]<=y<=rango[1] and rango[0]<=z<=rango[1]:\n",
        "      print(\"tiene 3 raices reales\")\n",
        "\n",
        "      deriv_=p.deriv()\n",
        "      print(\"Derivada: \",deriv_)\n",
        "      raices_deriv=list(deriv_.roots())\n",
        "      print(\"raices de la derivada: \",raices_deriv)\n",
        "\n",
        "      ##Hallar maximos y minimos\n",
        "      seg_deriv_=deriv_.deriv()\n",
        "      print(\"segunda derivada: \",seg_deriv_)\n",
        "\n",
        "      prim_punto=seg_deriv_(raices_deriv[0])\n",
        "      seg_punto=seg_deriv_(raices_deriv[1])\n",
        "\n",
        "      print(\"vemos que {} es un máximo ya que al reemplazarlo en la segunda deriva resulta: {}\".format(raices_deriv[0],prim_punto))\n",
        "      print(\"vemos que {} es un mínimo ya que al reemplazarlo en la segunda deriva resulta: {}\".format(raices_deriv[1],seg_punto))\n",
        "    \n",
        "      rango=np.arange(-3,5,0.1)\n",
        "      plt.plot(rango,p(rango))\n",
        "      plt.plot(x,0, 'bo')\n",
        "      plt.plot(y,0, 'bo')\n",
        "      plt.plot(z,0, 'bo')\n",
        "      plt.xlabel(\"X\")\n",
        "      plt.ylabel(\"Polinomio\")\n",
        "\n",
        "      \n",
        "      plt.grid()\n",
        "      plt.show()\n",
        "\n",
        "\n",
        "\n"
      ],
      "metadata": {
        "colab": {
          "base_uri": "https://localhost:8080/",
          "height": 418
        },
        "id": "eb7tO0Jil9vQ",
        "outputId": "164d24a0-b42c-4256-ae03-203b49c9f5f9"
      },
      "execution_count": 263,
      "outputs": [
        {
          "output_type": "stream",
          "name": "stdout",
          "text": [
            "polinomio: -6.0 + 5.0·x¹ + 6.0·x² - 3.0·x³\n",
            "raices:  [-1.1128018797579313, 0.7657564121586109, 2.3470454675993206]\n",
            "tiene 3 raices reales\n",
            "Derivada:  5.0 + 12.0·x¹ - 9.0·x²\n",
            "raices de la derivada:  [-0.33333333333333337, 1.6666666666666665]\n",
            "segunda derivada:  12.0 - 18.0·x¹\n",
            "vemos que -0.33333333333333337 es un máximo ya que al reemplazarlo en la segunda deriva resulta: 18.0\n",
            "vemos que 1.6666666666666665 es un mínimo ya que al reemplazarlo en la segunda deriva resulta: -17.999999999999996\n"
          ]
        },
        {
          "output_type": "display_data",
          "data": {
            "text/plain": [
              "<Figure size 432x288 with 1 Axes>"
            ],
            "image/png": "[encoded data removed]"
          },
          "metadata": {
            "needs_background": "light"
          }
        }
      ]
    },
    {
      "cell_type": "code",
      "source": [
        ""
      ],
      "metadata": {
        "id": "CKTt8fVQYtYg"
      },
      "execution_count": null,
      "outputs": []
    }
  ]
}